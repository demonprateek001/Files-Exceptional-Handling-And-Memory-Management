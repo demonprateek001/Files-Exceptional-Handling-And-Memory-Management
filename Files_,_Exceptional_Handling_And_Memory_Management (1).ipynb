{
  "nbformat": 4,
  "nbformat_minor": 0,
  "metadata": {
    "colab": {
      "provenance": []
    },
    "kernelspec": {
      "name": "python3",
      "display_name": "Python 3"
    },
    "language_info": {
      "name": "python"
    }
  },
  "cells": [
    {
      "cell_type": "markdown",
      "source": [
        "**Theorerical Answer Of Files , Exceptional Handling And Memory Management**\n",
        "\n",
        "---\n",
        "\n"
      ],
      "metadata": {
        "id": "XwfXwfELVo77"
      }
    },
    {
      "cell_type": "markdown",
      "source": [
        "1. What is the difference between interpreted and compiled languages?\n",
        "   - The differences between **interpreted** and **compiled** languages are as follows:\n",
        "   - **Execution Method:** Compiled languages are translated into machine code before execution, while interpreted languages are executed line-by-line at runtime.\n",
        "\n",
        "   - **Performance:** Compiled languages generally offer better performance since the code is optimized and directly executed by the machine.\n",
        "\n",
        "   - **Error Detection:** Errors in compiled languages are detected during the compilation process, whereas interpreted languages may only show errors during execution.\n",
        "\n",
        "   - **Examples:** Common compiled languages include C, C++, and Rust, while interpreted languages include Python, JavaScript, and Ruby.\n",
        "\n",
        "   - **Development Cycle**: Compiled languages require a separate compilation step, which can slow down the development cycle, while interpreted languages allow for quicker testing and debugging.\n",
        "\n",
        "- These distinctions help in understanding how different programming languages operate and their respective use cases."
      ],
      "metadata": {
        "id": "5_n_NJKktaW-"
      }
    },
    {
      "cell_type": "markdown",
      "source": [
        " 2. What is exception handling in Python?\n",
        "   - Exception handling in Python is a mechanism to handle errors gracefully and maintain the normal flow of the program. Errors in Python can be broadly classified into two categories: Syntax Errors and Exceptions. Syntax errors occur when the parser detects an incorrect statement, while exceptions are raised when an error occurs during the execution of syntactically correct code."
      ],
      "metadata": {
        "id": "CjQd_RpNSTHx"
      }
    },
    {
      "cell_type": "markdown",
      "source": [
        "3. What is the purpose of the finally block in exception handling?\n",
        "  - The purpose of the finally block in exception handling is to ensure that a specific block of code is executed regardless of whether an exception occurs in the try block. This is crucial for performing cleanup operations, such as closing files or releasing resources, that must happen whether an error is thrown or not. The finally block will always execute when the try block exits, ensuring that necessary actions are taken even in the event of an unexpected exception."
      ],
      "metadata": {
        "id": "KG7AsmfPTNnB"
      }
    },
    {
      "cell_type": "markdown",
      "source": [
        "4. What is logging in Python?\n",
        "  - Logging is an essential practice for tracking events that occur during the execution of a program. It helps developers understand the flow of their code, debug errors, and analyze performance. Python provides a built-in logging module that allows you to record log messages with different severity levels and direct them to various destinations such as the console, files, or external systems."
      ],
      "metadata": {
        "id": "MwrWUlbNTZ9c"
      }
    },
    {
      "cell_type": "markdown",
      "source": [
        "5.  What is the significance of the __del__ method in Python?\n",
        "  - The __del__ method is a special method in Python that is called when an object is about to be destroyed. It allows you to define specific cleanup actions that should be taken when an object is garbage collected."
      ],
      "metadata": {
        "id": "nHXKtimITaLZ"
      }
    },
    {
      "cell_type": "markdown",
      "source": [
        "6. What is the difference between import and from ... import in Python?\n",
        "  - In Python, both import and from ... import are used to include external modules or specific objects from modules, but they behave differently.\n",
        "\n"
      ],
      "metadata": {
        "id": "NQT_G73LTaxs"
      }
    },
    {
      "cell_type": "markdown",
      "source": [
        "**🔹import statement:**"
      ],
      "metadata": {
        "id": "1npNUQDeaAm6"
      }
    },
    {
      "cell_type": "code",
      "source": [
        "import math\n"
      ],
      "metadata": {
        "id": "yDSKX7GYYv0j"
      },
      "execution_count": 2,
      "outputs": []
    },
    {
      "cell_type": "markdown",
      "source": [
        "- This imports the entire module.\n",
        "\n",
        "- You need to use the module name to access its functions or attributes."
      ],
      "metadata": {
        "id": "ammo1s8TYy54"
      }
    },
    {
      "cell_type": "markdown",
      "source": [
        "**Example:**"
      ],
      "metadata": {
        "id": "1JZ6KJIZY7hu"
      }
    },
    {
      "cell_type": "code",
      "source": [
        "import math\n",
        "print(math.sqrt(16))  # Output: 4.0"
      ],
      "metadata": {
        "colab": {
          "base_uri": "https://localhost:8080/"
        },
        "id": "C__j81RhY4GX",
        "outputId": "2eb95243-cff8-4e94-f97e-4b8098dbae1f"
      },
      "execution_count": 4,
      "outputs": [
        {
          "output_type": "stream",
          "name": "stdout",
          "text": [
            "4.0\n"
          ]
        }
      ]
    },
    {
      "cell_type": "markdown",
      "source": [
        "**🔹 from ... import statement:**\n",
        "\n"
      ],
      "metadata": {
        "id": "-odum3yxZDrf"
      }
    },
    {
      "cell_type": "code",
      "source": [
        "from math import sqrt\n"
      ],
      "metadata": {
        "id": "RWbPJakZZWeo"
      },
      "execution_count": 1,
      "outputs": []
    },
    {
      "cell_type": "markdown",
      "source": [
        "- This imports only a specific object (like a function, class, or variable) from a module.\n",
        "\n",
        "- You can use the imported name directly without prefixing it with the module name.\n",
        "\n"
      ],
      "metadata": {
        "id": "9jqb3xcPZfwL"
      }
    },
    {
      "cell_type": "markdown",
      "source": [
        "**Example:**"
      ],
      "metadata": {
        "id": "YyuUWOk9Zzi-"
      }
    },
    {
      "cell_type": "code",
      "source": [
        "from math import sqrt\n",
        "print(sqrt(16))  # Output: 4.0"
      ],
      "metadata": {
        "colab": {
          "base_uri": "https://localhost:8080/"
        },
        "id": "M0gdywaBZlIQ",
        "outputId": "ee2ac227-7789-4e09-a495-dc2eeb343d95"
      },
      "execution_count": 3,
      "outputs": [
        {
          "output_type": "stream",
          "name": "stdout",
          "text": [
            "4.0\n"
          ]
        }
      ]
    },
    {
      "cell_type": "markdown",
      "source": [
        "7. How can you handle multiple exceptions in Python?\n",
        "  - Using a Single except Block with a Tuple\n",
        "You can catch multiple exceptions in a single except block by specifying them as a tuple. This is useful when you want to handle different exceptions in the same way.\n",
        "  - Using Multiple except Blocks\n",
        "If you want to handle each exception differently, you can use multiple except blocks."
      ],
      "metadata": {
        "id": "8tz4gzLzaNDF"
      }
    },
    {
      "cell_type": "markdown",
      "source": [
        "8. What is the purpose of the with statement when handling files in Python?\n",
        "  - The with statement in Python is used for resource management, especially when working with files. Its main purpose is to ensure that resources like files are properly closed, even if an error occurs.\n",
        "\n",
        "**✅ Purpose of with when handling files:**\n",
        "\n",
        "- Automatically opens and closes the file.\n",
        "\n",
        "- Cleaner and more readable than manual open/close.\n",
        "\n",
        "- Prevents resource leaks (like unclosed files).\n",
        "\n",
        "- Exception-safe — file will be closed even if an error occurs during file operations."
      ],
      "metadata": {
        "id": "6EReuD6VaNBW"
      }
    },
    {
      "cell_type": "markdown",
      "source": [
        "9. What is the difference between multithreading and multiprocessing?  \n",
        "**Multithreading**\n",
        "  - Multithreading involves creating multiple threads within a single process. These threads share the same memory space and can run concurrently. This technique is particularly useful for I/O-bound tasks that involve waiting for external resources.\n",
        "\n",
        "**Multiprocessing**\n",
        "\n",
        "- Multiprocessing involves using multiple CPUs to run multiple processes simultaneously. Each process runs independently and has its own memory space. This technique is particularly useful for CPU-bound tasks that require significant computational power."
      ],
      "metadata": {
        "id": "iN2SfZHUaM_A"
      }
    },
    {
      "cell_type": "markdown",
      "source": [
        "10. What are the advantages of using logging in a program?\n",
        "  \n",
        "   -  **The advantages of using logging in a program include:**\n",
        "\n",
        "- **Debugging:** Helps identify and diagnose issues by capturing relevant information during program execution.\n",
        "\n",
        "- **Monitoring**:Provides insights into the application's behavior and performance.\n",
        "\n",
        "- **Auditing**: Keeps a record of important events and actions for security purposes.\n",
        "\n",
        "- **Troubleshooting**: Facilitates tracking of program flow and variable values to understand unexpected behavior.\n",
        "\n",
        "- **Performance Optimization:** Assists in optimizing performance by analyzing logs to identify bottlenecks.\n",
        "\n",
        "\n",
        "Logging is an essential tool that enhances the overall quality and maintainability of software applications."
      ],
      "metadata": {
        "id": "tvNqrOE_aM8R"
      }
    },
    {
      "cell_type": "markdown",
      "source": [
        "11. What is memory management in Python?\n",
        "   - Memory management in Python is a critical aspect of writing efficient and effective code. Python automates memory allocation and deallocation through its built-in garbage collector, so developers don't have to manually manage memory, which can be error-prone and complex.\n",
        "                              OR\n",
        "   -  Memory management in Python is a critical aspect of writing efficient and reliable programs. Python automatically handles memory allocation and deallocation through its built-in memory manager and garbage collector. This automation reduces the complexity for developers, who do not need to manually manage memory, helping to avoid common issues like memory leaks and dangling pointers. The system relies on reference counting and a cyclic garbage collector to reclaim unused memory safely.\n",
        "\n",
        "  \n",
        "\n"
      ],
      "metadata": {
        "id": "CexSs2dhaM5d"
      }
    },
    {
      "cell_type": "markdown",
      "source": [
        "12.  What are the basic steps involved in exception handling in Python?\n",
        "  - Exception handling in Python allows you to deal with runtime errors gracefully, without crashing the program. Here are the basic steps involved:\n",
        "\n",
        "✅ 1. Use the try Block\n",
        "Wrap the code that might raise an exception inside a try block.\n",
        "\n"
      ],
      "metadata": {
        "id": "CPezDoLxaM2w"
      }
    },
    {
      "cell_type": "code",
      "source": [
        "#step 1\n",
        "\n",
        "try:\n",
        "    # If you run this code it will through an error\n",
        "    x = int(input(\"Enter a number: \"))\n",
        "    result = 10 / x"
      ],
      "metadata": {
        "id": "bUjHXpXDs4W6"
      },
      "execution_count": null,
      "outputs": []
    },
    {
      "cell_type": "markdown",
      "source": [
        " ✅ 2. Use One or More except Blocks\n",
        "Handle specific or general exceptions using except.\n"
      ],
      "metadata": {
        "id": "sH8QHc8vtKdR"
      }
    },
    {
      "cell_type": "code",
      "source": [
        "#step 2\n",
        "# If you run this code it will through an error\n",
        "except ValueError:\n",
        "    print(\"Invalid input! Please enter a number.\")\n",
        "except ZeroDivisionError:\n",
        "    print(\"Cannot divide by zero.\")"
      ],
      "metadata": {
        "id": "dgPj8luwt8FN"
      },
      "execution_count": null,
      "outputs": []
    },
    {
      "cell_type": "markdown",
      "source": [
        "✅ 3. (Optional) Use the else Block\n",
        "The else block runs only if no exceptions were raised in the try block"
      ],
      "metadata": {
        "id": "N6GDK-zQaM0F"
      }
    },
    {
      "cell_type": "code",
      "source": [
        "#Step 3\n",
        "# If you run this code it will through an error\n",
        "\n",
        "else:\n",
        "    print(\"Result is:\", result)"
      ],
      "metadata": {
        "id": "eoIJVWyLuUSd"
      },
      "execution_count": null,
      "outputs": []
    },
    {
      "cell_type": "markdown",
      "source": [
        "✅ 4. (Optional) Use the finally Block\n",
        "The finally block contains code that runs no matter what — even if an exception occurred."
      ],
      "metadata": {
        "id": "xe6eIZm6wKIh"
      }
    },
    {
      "cell_type": "code",
      "source": [
        "#Step 4\n",
        "# If you run this code it will through an error\n",
        "finally:\n",
        "    print(\"Execution complete.\")"
      ],
      "metadata": {
        "id": "phjZHOcBwJg3"
      },
      "execution_count": null,
      "outputs": []
    },
    {
      "cell_type": "markdown",
      "source": [
        "Now we write all code step by step"
      ],
      "metadata": {
        "id": "xNPmBPDhxoYh"
      }
    },
    {
      "cell_type": "code",
      "source": [
        "\n",
        "try:\n",
        "    x = int(input(\"Enter a number: \"))  #this is step 1\n",
        "    result = 10 / x\n",
        "except ValueError: #this is step 2\n",
        "    print(\"Invalid input! Please enter a valid number.\")\n",
        "except ZeroDivisionError:\n",
        "    print(\"Division by zero is not allowed.\")\n",
        "else: #this is step 3\n",
        "    print(f\"Result is: {result}\")\n",
        "finally:#this is step 4\n",
        "    print(\"Program ended.\")"
      ],
      "metadata": {
        "id": "2S281FEyywQq"
      },
      "execution_count": null,
      "outputs": []
    },
    {
      "cell_type": "markdown",
      "source": [
        "13. Why is memory management important in Python?\n",
        "    - Memory management is crucial in Python because it ensures that your program runs efficiently, uses resources wisely, and remains stable — even as it scales or runs for a long time. Although Python automates memory handling, understanding its importance helps you write better, faster, and more reliable code."
      ],
      "metadata": {
        "id": "0a-XMRin0jD0"
      }
    },
    {
      "cell_type": "markdown",
      "source": [
        "14. What is the role of try and except in exception handling?\n",
        "  - The try block lets you test a block of code for errors. The except block lets you handle the error. The else block lets you execute code when there is no error. The finally block lets you execute code, regardless of the result of the try- and except blocks."
      ],
      "metadata": {
        "id": "G6S3EUzHaMwy"
      }
    },
    {
      "cell_type": "markdown",
      "source": [
        "15. How does Python's garbage collection system work?\n",
        "  - Garbage collection is Python’s way of automatically managing memory, ensuring that your applications runs smoothly by freeing up memory that is no longer in use. In simpler terms, it is like having an invisible janitor who cleans up after your code, disposing of objects that are no longer needed.\n",
        "  - Python's garbage collection system is responsible for automatically reclaiming memory by removing objects that are no longer in use. This helps prevent memory leaks and allows developers to focus more on logic than memory management."
      ],
      "metadata": {
        "id": "3qeik8YEaMoQ"
      }
    },
    {
      "cell_type": "markdown",
      "source": [
        "16. What is the purpose of the else block in exception handling?\n",
        "   - The else block in exception handling is used to run a certain block of code if the code block inside try runs without any errors. The use of the else clause is better than adding additional code to the try clause because it avoids accidentally catching an exception that wasn’t raised by the code being protected by the try... except statement. If you move the contents of the else block inside the try block, you will also catch exceptions that might happen during the else block."
      ],
      "metadata": {
        "id": "dLcNltylaMlN"
      }
    },
    {
      "cell_type": "markdown",
      "source": [
        "17. What are the common logging levels in Python?\n",
        "  - In Python, the logging module provides a flexible framework for emitting log messages. It defines several standard logging levels to indicate the severity of events. Here are the common logging levels:\n",
        "\n",
        "**DEBUG:**\n",
        "\n",
        " - **Purpose:** Detailed information, typically of interest only when diagnosing problems.\n",
        " - **Use Case:**Debugging during development.\n",
        " - **Example:** Logging variable values or function calls.\n",
        "\n",
        "**INFO:**\n",
        " - **Purpose:**Confirmation that things are working as expected.\n",
        " - **Use Case:** General application flow or status updates.\n",
        " - **Example:** Logging successful completion of a task.\n",
        "\n",
        "**WARNING:**\n",
        "- **Purpose**: An indication that something unexpected happened, or indicative of some problem in the near future (e.g., \"disk space low\"). The software is still working as expected.\n",
        "- **Use Case:** Highlighting potential issues.\n",
        "- **Example:**  Logging deprecated API usage.\n",
        "\n",
        "**ERROR:**\n",
        " - **Purpose**: A more serious problem, the software has not been able to perform some function.\n",
        " - **Use Case:** Logging errors that prevent a specific operation.\n",
        " - **Example:**  Logging failed database connections.\n",
        "\n",
        "**CRITICAL:**\n",
        " - **Purpose**: A very serious error, indicating that the program itself may be unable to continue running.\n",
        " - **Use Case:** Logging system-wide failures or critical issues.\n",
        " - **Example:** Logging a server crash."
      ],
      "metadata": {
        "id": "VmTVtVOSaMf6"
      }
    },
    {
      "cell_type": "markdown",
      "source": [
        "18.  What is the difference between os.fork() and multiprocessing in Python?\n",
        "   - The only real difference between the os.fork and multiprocessing.Process is portability and library overhead, since os.fork is not supported in windows, and the multiprocessing framework is included to make multiprocessing.Process work."
      ],
      "metadata": {
        "id": "ozY7o6WfaMc_"
      }
    },
    {
      "cell_type": "markdown",
      "source": [
        "19. What is the importance of closing a file in Python?\n",
        "  - Closing a file in Python is very important because it ensures that system resources are properly released and any changes to the file are saved correctly. Failing to close a file can lead to data loss, file corruption, or resource leaks.\n",
        "\n"
      ],
      "metadata": {
        "id": "VFM_JMx3aMZu"
      }
    },
    {
      "cell_type": "markdown",
      "source": [
        "20. What is the difference between file.read() and file.readline() in Python\n",
        "  - The difference between read() and readline() in Python for file operations is as follows:\n",
        "- **read()**: Reads the entire content of the file as a single string.\n",
        "- **readline()**: Reads one line at a time from the file."
      ],
      "metadata": {
        "id": "Ww-6u7GBaMUR"
      }
    },
    {
      "cell_type": "markdown",
      "source": [
        "21. What is the logging module in Python used for ?\n",
        "  - The logging module in Python is used to record messages about a program's execution — such as informational messages, warnings, errors, or debugging details — to help developers:"
      ],
      "metadata": {
        "id": "nKMJ-IFUaMQ6"
      }
    },
    {
      "cell_type": "markdown",
      "source": [
        "22. What is the os module in Python used for in file handling?\n",
        "   - The module is a part of Python's standard utility modules which means that it is bundled with any clean Python install. It is most commonly used to interact with your file system; specifying paths, creating and deleting folders, or renaming files."
      ],
      "metadata": {
        "id": "52kZ1jOMaMNM"
      }
    },
    {
      "cell_type": "markdown",
      "source": [
        "23. What are the challenges associated with memory management in Python?\n",
        "  - Although Python automates memory management using reference counting and garbage collection, there are still several challenges developers might face — especially in large, performance-sensitive, or long-running applications."
      ],
      "metadata": {
        "id": "lpaouFERaMF7"
      }
    },
    {
      "cell_type": "markdown",
      "source": [
        "24. How do you raise an exception manually in Python?\n",
        "  \n",
        "   **To raise an exception manually in Python, you can follow these steps:**\n",
        "- Use the raise statement followed by the exception type you want to raise, such as ValueError, TypeError, or a custom exception. For example: raise ValueError ('A specific error message').\n",
        "\n",
        "- You can also use the assert statement to raise an exception if a condition is not met: assert condition, 'Error message'.\n",
        "\n",
        "- To re-raise an exception that you caught, simply use raise without specifying the exception.\n",
        "\n",
        "- Be specific in your exception messages to provide clarity on what went wrong.\n",
        "\n",
        "- You can raise both built-in and custom exceptions, allowing for flexibility in error handling.\n",
        "\n",
        "- These methods allow you to control the flow of your program and signal errors effectively."
      ],
      "metadata": {
        "id": "swmWs8UTaL7P"
      }
    },
    {
      "cell_type": "markdown",
      "source": [
        "25. Why is it important to use multithreading in certain applications?\n",
        "\n",
        "  - Multithreading is important in certain applications because it allows a program to perform multiple tasks at the same time, making it more efficient, responsive, and better at handling concurrent operations — especially when dealing with I/O-bound tasks like network requests, file operations, or user interaction.\n",
        "\n",
        "✅ Key Reasons Why Multithreading Is Important:\n",
        "1. Improves Application Responsiveness\n",
        "In GUI or web applications, multithreading prevents the interface from freezing during long operations.\n",
        "\n",
        "Example: You can download a file in the background while the user continues using the app.\n",
        "\n",
        "2. Better Utilization of Waiting Time (I/O-bound tasks)\n",
        "Threads are ideal for I/O-bound tasks (e.g., reading files, making API calls), where the program spends time waiting.\n",
        "\n",
        "While one thread waits, others can keep working.\n",
        "\n",
        "✅ Good for: Web scrapers, chat servers, file readers, etc.\n",
        "\n",
        "3. Concurrent Operations\n",
        "Multithreading enables tasks like logging, animation, or background updates to run concurrently.\n",
        "\n",
        "Example: A music app can play music while downloading lyrics in another thread.\n",
        "\n",
        "4. Efficient Use of System Resources\n",
        "For tasks that don’t need heavy CPU processing, threads help make better use of system I/O channels and RAM without overloading the processor.\n",
        "\n",
        "5. Simpler Program Design in Some Scenarios\n",
        "In certain applications (like servers), multithreading can simplify the logic of handling multiple clients simultaneously.\n",
        "\n"
      ],
      "metadata": {
        "id": "R4i-FbRoaLj1"
      }
    },
    {
      "cell_type": "markdown",
      "source": [
        "**Practical Answer Of Files , Exceptional Handling And Memory Management**\n",
        "\n",
        "---\n",
        "\n"
      ],
      "metadata": {
        "id": "V5CyPDCWVc-L"
      }
    },
    {
      "cell_type": "code",
      "source": [
        "#ques 1. How can you open a file for writing in Python and write a string to it?\n",
        "\n",
        "# Open the file in write mode\n",
        "with open(\"file.txt\", \"w\") as file:\n",
        "    # Write a string to the file\n",
        "    file.write(\"Hello, this is a sample text!\")\n",
        "\n",
        "\n"
      ],
      "metadata": {
        "id": "SAaFp6t-18E9"
      },
      "execution_count": 60,
      "outputs": []
    },
    {
      "cell_type": "code",
      "source": [
        "#ques 2. Write a Python program to read the contents of a file and print each line.\n",
        "\n",
        "\n",
        "# Open the file in read mode\n",
        "with open(\"file.txt\", \"r\") as file:\n",
        "    # Read and print each line\n",
        "    for line in file:\n",
        "        print(line.strip())  # .strip() removes the newline character\n"
      ],
      "metadata": {
        "colab": {
          "base_uri": "https://localhost:8080/"
        },
        "id": "x5IDfutW1-B1",
        "outputId": "39a4cf80-ac12-404a-d3bc-a71a2542b60c"
      },
      "execution_count": 61,
      "outputs": [
        {
          "output_type": "stream",
          "name": "stdout",
          "text": [
            "Hello, this is a sample text!\n"
          ]
        }
      ]
    },
    {
      "cell_type": "code",
      "source": [
        "#ques 3. How would you handle a case where the file doesn't exist while trying to open it for reading?\n",
        "\n",
        "\"\"\"\n",
        "\n",
        "If you try to open a file that does not exist in read mode, Python raises a FileNotFoundError.\n",
        "\n",
        "To handle this gracefully, you can use a try-except block to catch the exception and respond appropriately (e.g., display an error message instead of crashing).\n",
        "\n",
        "Example: Handling File Not Found Error\n",
        "\n",
        "\"\"\"\n",
        "\n",
        "try:\n",
        "    with open(\"example.txt\", \"r\") as file:\n",
        "        for line in file:\n",
        "            print(line.strip())\n",
        "except FileNotFoundError:\n",
        "    print(\"Error: The file does not exist.\")\n"
      ],
      "metadata": {
        "colab": {
          "base_uri": "https://localhost:8080/"
        },
        "id": "zfB5Jf6h19-_",
        "outputId": "05454fc1-ed5f-4244-d062-8cd6c9b211c0"
      },
      "execution_count": 62,
      "outputs": [
        {
          "output_type": "stream",
          "name": "stdout",
          "text": [
            "Hello, this is a sample text!This text will be added at the end.\n",
            "This text will be added at the end.\n"
          ]
        }
      ]
    },
    {
      "cell_type": "code",
      "source": [
        "#ques 4. Write a Python script that reads from one file and writes its content to another file.\n",
        "\n",
        "# Define source and destination file names\n",
        "source_file = \"input.txt\"\n",
        "destination_file = \"output.txt\"\n",
        "\n",
        "try:\n",
        "    # Open the source file in read mode\n",
        "    with open(source_file, \"r\") as src:\n",
        "        # Read all content\n",
        "        content = src.read()\n",
        "\n",
        "    # Open the destination file in write mode\n",
        "    with open(destination_file, \"w\") as dest:\n",
        "        # Write the content to the destination file\n",
        "        dest.write(content)\n",
        "\n",
        "    print(f\"Contents copied from '{source_file}' to '{destination_file}' successfully.\")\n",
        "\n",
        "except FileNotFoundError:\n",
        "    print(f\"Error: '{source_file}' does not exist.\")\n",
        "except Exception as e:\n",
        "    print(f\"An unexpected error occurred: {e}\")\n",
        "\n"
      ],
      "metadata": {
        "colab": {
          "base_uri": "https://localhost:8080/"
        },
        "id": "Vc2uP1ZQ198l",
        "outputId": "8e2aaa2b-d95b-45af-f8f3-38fbeda3e197"
      },
      "execution_count": 63,
      "outputs": [
        {
          "output_type": "stream",
          "name": "stdout",
          "text": [
            "Error: 'input.txt' does not exist.\n"
          ]
        }
      ]
    },
    {
      "cell_type": "code",
      "source": [
        "#ques 5. How would you catch and handle division by zero error in Python?\n",
        "try:\n",
        "    numerator = int(input(\"Enter numerator: \"))\n",
        "    denominator = int(input(\"Enter denominator: \"))\n",
        "    result = numerator / denominator\n",
        "    print(\"Result:\", result)\n",
        "except ZeroDivisionError:\n",
        "    print(\"Error: Cannot divide by zero.\")\n",
        "\n",
        "\n"
      ],
      "metadata": {
        "colab": {
          "base_uri": "https://localhost:8080/"
        },
        "id": "PChBFSUQ195y",
        "outputId": "f530edf3-7b1a-4b88-cc92-4f8e9ae0b9f2"
      },
      "execution_count": 64,
      "outputs": [
        {
          "output_type": "stream",
          "name": "stdout",
          "text": [
            "Enter numerator: 00\n",
            "Enter denominator: 0\n",
            "Error: Cannot divide by zero.\n"
          ]
        }
      ]
    },
    {
      "cell_type": "code",
      "source": [
        "#ques 6. Write a Python program that logs an error message to a log file when a division by zero exception occurs.\n",
        "\n",
        "\n",
        "import logging\n",
        "\n",
        "# Set up logging configuration\n",
        "logging.basicConfig(\n",
        "    filename='error.log',         # Log file name\n",
        "    level=logging.ERROR,          # Log level\n",
        "    format='%(asctime)s - %(levelname)s - %(message)s'  # Log format\n",
        ")\n",
        "\n",
        "try:\n",
        "    numerator = int(input(\"Enter numerator: \"))\n",
        "    denominator = int(input(\"Enter denominator: \"))\n",
        "    result = numerator / denominator\n",
        "    print(\"Result:\", result)\n",
        "\n",
        "except ZeroDivisionError as e:\n",
        "    print(\"Error: Cannot divide by zero.\")\n",
        "    logging.error(\"Division by zero error occurred: %s\", e)\n",
        "\n"
      ],
      "metadata": {
        "colab": {
          "base_uri": "https://localhost:8080/"
        },
        "id": "L9lyjrojDkrC",
        "outputId": "7ef96dca-58c4-4339-8b4e-3995adee00bb"
      },
      "execution_count": 43,
      "outputs": [
        {
          "name": "stdout",
          "output_type": "stream",
          "text": [
            "Enter numerator: 0\n",
            "Enter denominator: 0\n"
          ]
        },
        {
          "output_type": "stream",
          "name": "stderr",
          "text": [
            "ERROR:root:Division by zero error occurred: division by zero\n"
          ]
        },
        {
          "output_type": "stream",
          "name": "stdout",
          "text": [
            "Error: Cannot divide by zero.\n"
          ]
        }
      ]
    },
    {
      "cell_type": "code",
      "source": [
        "#ques 7. How do you log information at different levels (INFO, ERROR, WARNING) in Python using the logging module?\n",
        "import logging\n",
        "\n",
        "# Configure the logging system\n",
        "logging.basicConfig(\n",
        "    level=logging.DEBUG,  # Set the lowest level to capture everything\n",
        "    format='%(asctime)s - %(levelname)s - %(message)s',\n",
        "    filename='app.log',   # Log messages will be saved here\n",
        "    filemode='w'          # Overwrite file each time (use 'a' to append)\n",
        ")\n",
        "\n",
        "# Logging messages at different levels\n",
        "logging.debug(\"This is a DEBUG message (used for detailed diagnostics)\")\n",
        "logging.info(\"This is an INFO message (general info about the program)\")\n",
        "logging.warning(\"This is a WARNING message (something unexpected but not crashing)\")\n",
        "logging.error(\"This is an ERROR message (something went wrong)\")\n",
        "logging.critical(\"This is a CRITICAL message (serious error, program may not continue)\")\n"
      ],
      "metadata": {
        "colab": {
          "base_uri": "https://localhost:8080/"
        },
        "id": "I_nOPydz19xR",
        "outputId": "f87da8ec-ba00-42a3-a7d7-4f5b3c9e20e5"
      },
      "execution_count": 44,
      "outputs": [
        {
          "output_type": "stream",
          "name": "stderr",
          "text": [
            "WARNING:root:This is a WARNING message (something unexpected but not crashing)\n",
            "ERROR:root:This is an ERROR message (something went wrong)\n",
            "CRITICAL:root:This is a CRITICAL message (serious error, program may not continue)\n"
          ]
        }
      ]
    },
    {
      "cell_type": "code",
      "source": [
        "#ques 8. Write a program to handle a file opening error using exception handling.\n",
        "try:\n",
        "    # Attempt to open a file that may not exist\n",
        "    with open(\"data.txt\", \"r\") as file:\n",
        "        content = file.read()\n",
        "        print(\"File content:\\n\", content)\n",
        "\n",
        "except FileNotFoundError:\n",
        "    print(\"Error: The file 'data.txt' was not found.\")\n",
        "\n",
        "except PermissionError:\n",
        "    print(\"Error: You do not have permission to read this file.\")\n",
        "\n",
        "except Exception as e:\n",
        "    print(f\"An unexpected error occurred: {e}\")\n"
      ],
      "metadata": {
        "colab": {
          "base_uri": "https://localhost:8080/"
        },
        "id": "7Ju03yIj19vE",
        "outputId": "d757fcf7-e5e5-4ec2-f5c1-54e7057d1303"
      },
      "execution_count": 65,
      "outputs": [
        {
          "output_type": "stream",
          "name": "stdout",
          "text": [
            "Error: The file 'data.txt' was not found.\n"
          ]
        }
      ]
    },
    {
      "cell_type": "code",
      "source": [
        "#ques 9. How can you read a file line by line and store its content in a list in Python?\n",
        "\n",
        "# Method 1: Using with and readlines()\n",
        "with open('filename.txt', 'r') as file:\n",
        "    lines = file.readlines()  # Reads all lines into a list\n",
        "    lines = [line.strip() for line in lines]  # Removes trailing newline characters\n",
        "\n",
        "\n",
        "\n",
        "# Using with and a Loop\n",
        "lines = []\n",
        "with open('filename.txt', 'r') as file:\n",
        "    for line in file:\n",
        "        lines.append(line.strip())  # Appends each line to the list after stripping\n",
        "\n",
        "#Using List Comprehension\n",
        "\n",
        "\n",
        "with open('filename.txt', 'r') as file:\n",
        "    lines = [line.strip() for line in file]  # Reads and processes lines in one step\n"
      ],
      "metadata": {
        "id": "Qh_vFnLC19sN"
      },
      "execution_count": 66,
      "outputs": []
    },
    {
      "cell_type": "code",
      "source": [
        "#ques 10. How can you append data to an existing file in Python?\n",
        "with open(\"file.txt\", \"a\") as file:\n",
        "    file.write(\"This text will be added at the end.\\n\")\n",
        "\n",
        "\n"
      ],
      "metadata": {
        "id": "EHpjE65p19pP"
      },
      "execution_count": 59,
      "outputs": []
    },
    {
      "cell_type": "code",
      "source": [
        "#ques 11. Write a Python program that uses a try-except block to handle an error when attempting to access a\n",
        "#dictionary key that doesn't exist.\n",
        "\n",
        "# Define a sample dictionary\n",
        "person = {\n",
        "    \"name\": \"Alice\",\n",
        "    \"age\": 30\n",
        "}\n",
        "\n",
        "try:\n",
        "    # Attempt to access a key that might not exist\n",
        "    print(\"Name:\", person[\"name\"])\n",
        "    print(\"City:\", person[\"city\"])  # This key doesn't exist\n",
        "except KeyError as e:\n",
        "    print(f\"Error: Key '{e.args[0]}' not found in the dictionary.\")\n"
      ],
      "metadata": {
        "colab": {
          "base_uri": "https://localhost:8080/"
        },
        "id": "5vCCGQdP19jx",
        "outputId": "9d851771-e844-471a-bf22-707d68a6654e"
      },
      "execution_count": 68,
      "outputs": [
        {
          "output_type": "stream",
          "name": "stdout",
          "text": [
            "Name: Alice\n",
            "Error: Key 'city' not found in the dictionary.\n"
          ]
        }
      ]
    },
    {
      "cell_type": "code",
      "source": [
        "#ques 12. Write a program that demonstrates using multiple except blocks to handle different types of exceptions.\n",
        "\n",
        "try:\n",
        "    num1 = int(input(\"Enter the numerator: \"))\n",
        "    num2 = int(input(\"Enter the denominator: \"))\n",
        "    result = num1 / num2\n",
        "    print(\"Result:\", result)\n",
        "\n",
        "except ZeroDivisionError:\n",
        "    print(\"Error: Cannot divide by zero.\")\n",
        "\n",
        "except ValueError:\n",
        "    print(\"Error: Please enter valid integers.\")\n",
        "\n",
        "except Exception as e:\n",
        "    print(f\"An unexpected error occurred: {e}\")\n"
      ],
      "metadata": {
        "colab": {
          "base_uri": "https://localhost:8080/"
        },
        "id": "FQQcKo0b19h1",
        "outputId": "225a1835-0ea0-4ebd-96ec-fc698938d4ec"
      },
      "execution_count": 69,
      "outputs": [
        {
          "output_type": "stream",
          "name": "stdout",
          "text": [
            "Enter the numerator: 0\n",
            "Enter the denominator: 0\n",
            "Error: Cannot divide by zero.\n"
          ]
        }
      ]
    },
    {
      "cell_type": "code",
      "source": [
        "#ques 13. How would you check if a file exists before attempting to read it in Python?\n",
        "\n",
        "#  Method 1: Using os.path.exists()\n",
        "\n",
        "import os\n",
        "\n",
        "file_path = \"example.txt\"\n",
        "\n",
        "if os.path.exists(file_path):\n",
        "    with open(file_path, \"r\") as file:\n",
        "        content = file.read()\n",
        "        print(content)\n",
        "else:\n",
        "    print(f\"Error: The file '{file_path}' does not exist.\")\n",
        "\n",
        "\n",
        "# Method 2: Using pathlib.Path.exists() (modern and cleaner)\n",
        "\n",
        "from pathlib import Path\n",
        "\n",
        "file_path = Path(\"example.txt\")\n",
        "\n",
        "if file_path.exists():\n",
        "    with file_path.open(\"r\") as file:\n",
        "        content = file.read()\n",
        "        print(content)\n",
        "else:\n",
        "    print(f\"Error: The file '{file_path}' does not exist.\")\n",
        "\n",
        "\n"
      ],
      "metadata": {
        "colab": {
          "base_uri": "https://localhost:8080/"
        },
        "id": "aLBDPfh919fA",
        "outputId": "6cd8450a-33c5-4b63-9b9c-2abb21bd8b4b"
      },
      "execution_count": 70,
      "outputs": [
        {
          "output_type": "stream",
          "name": "stdout",
          "text": [
            "Hello, this is a sample text!This text will be added at the end.\n",
            "This text will be added at the end.\n",
            "\n",
            "Hello, this is a sample text!This text will be added at the end.\n",
            "This text will be added at the end.\n",
            "\n"
          ]
        }
      ]
    },
    {
      "cell_type": "code",
      "source": [
        "#ques 14. Write a program that uses the logging module to log both informational and error messages.\n",
        "\n",
        "import logging\n",
        "\n",
        "# Configure logging settings\n",
        "logging.basicConfig(\n",
        "    filename='app.log',        # Log file name\n",
        "    level=logging.DEBUG,       # Capture all levels: DEBUG and above\n",
        "    format='%(asctime)s - %(levelname)s - %(message)s'\n",
        ")\n",
        "\n",
        "# Log an informational message\n",
        "logging.info(\"Application started.\")\n",
        "\n",
        "try:\n",
        "    # Sample operation\n",
        "    num1 = int(input(\"Enter a number: \"))\n",
        "    num2 = int(input(\"Enter another number: \"))\n",
        "    result = num1 / num2\n",
        "    print(\"Result:\", result)\n",
        "    logging.info(\"Division performed successfully.\")\n",
        "\n",
        "except ZeroDivisionError:\n",
        "    print(\"Error: Cannot divide by zero.\")\n",
        "    logging.error(\"Attempted division by zero.\")\n",
        "\n",
        "except ValueError:\n",
        "    print(\"Error: Invalid input.\")\n",
        "    logging.error(\"Non-integer value entered.\")\n",
        "\n",
        "except Exception as e:\n",
        "    print(f\"An unexpected error occurred: {e}\")\n",
        "    logging.exception(\"Unexpected error occurred.\")\n",
        "\n",
        "# Final log message\n",
        "logging.info(\"Application finished.\")\n"
      ],
      "metadata": {
        "colab": {
          "base_uri": "https://localhost:8080/"
        },
        "id": "ubOzrXCq19cR",
        "outputId": "16a54afb-b8e1-4b27-cd4d-30168dc1ea0e"
      },
      "execution_count": 71,
      "outputs": [
        {
          "name": "stdout",
          "output_type": "stream",
          "text": [
            "Enter a number: 0\n",
            "Enter another number: 0\n"
          ]
        },
        {
          "output_type": "stream",
          "name": "stderr",
          "text": [
            "ERROR:root:Attempted division by zero.\n"
          ]
        },
        {
          "output_type": "stream",
          "name": "stdout",
          "text": [
            "Error: Cannot divide by zero.\n"
          ]
        }
      ]
    },
    {
      "cell_type": "code",
      "source": [
        "#ques 15. Write a Python program that prints the content of a file and handles the case when the file is empty.\n",
        "def print_file_content(filename):\n",
        "    try:\n",
        "        with open(filename, 'r') as file:\n",
        "            content = file.read()\n",
        "\n",
        "            if not content.strip():\n",
        "                print(\"The file is empty.\")\n",
        "            else:\n",
        "                print(\"File content:\")\n",
        "                print(content)\n",
        "\n",
        "    except FileNotFoundError:\n",
        "        print(f\"Error: The file '{filename}' was not found.\")\n",
        "    except Exception as e:\n",
        "        print(f\"An unexpected error occurred: {e}\")\n",
        "\n",
        "# Example usage\n",
        "filename = input(\"Enter the filename: \")\n",
        "print_file_content(filename)\n"
      ],
      "metadata": {
        "colab": {
          "base_uri": "https://localhost:8080/"
        },
        "id": "Av2CtXUN19ZQ",
        "outputId": "8f4f64a1-1498-45b2-e0f7-60f18c43369b"
      },
      "execution_count": 72,
      "outputs": [
        {
          "output_type": "stream",
          "name": "stdout",
          "text": [
            "Enter the filename: 25\n",
            "Error: The file '25' was not found.\n"
          ]
        }
      ]
    },
    {
      "cell_type": "code",
      "source": [
        "\n",
        "#ques 16.  Demonstrate how to use memory profiling to check the memory usage of a small program.\n",
        "\n",
        "#1. Install memory_profiler\n",
        "#Run this in your terminal or command prompt:\n",
        "\n",
        "\n",
        "#pip install memory-profiler\n",
        "#2. Example Program with Memory Profiling\n",
        "\n",
        "# save this as memory_test.py\n",
        "from memory_profiler import profile\n",
        "\n",
        "@profile\n",
        "def create_large_list():\n",
        "    large_list = [i * 2 for i in range(10**6)]\n",
        "    return sum(large_list)\n",
        "\n",
        "if __name__ == \"__main__\":\n",
        "    total = create_large_list()\n",
        "    print(\"Total:\", total)\n",
        "#The @profile decorator tracks memory usage of the function line-by-line.\n",
        "\n",
        "#large_list consumes noticeable memory.\n",
        "\n",
        "# 3. Run the Memory Profiler\n",
        "#From the terminal or command prompt:\n",
        " #memory_profiler memory_test.py"
      ],
      "metadata": {
        "id": "JH_NirZ319Vv"
      },
      "execution_count": 81,
      "outputs": []
    },
    {
      "cell_type": "code",
      "source": [
        "#ques 17.  Write a Python program to create and write a list of numbers to a file, one number per line.\n",
        "\n",
        "# List of numbers to write\n",
        "numbers = [10, 20, 30, 40, 50]\n",
        "\n",
        "# Open the file in write mode\n",
        "with open(\"numbers.txt\", \"w\") as file:\n",
        "    for number in numbers:\n",
        "        file.write(str(number) + \"\\n\")  # Convert number to string and write with newline\n",
        "\n",
        "print(\"Numbers written to 'numbers.txt' successfully.\")\n"
      ],
      "metadata": {
        "colab": {
          "base_uri": "https://localhost:8080/"
        },
        "id": "SsFuPW3J19Qc",
        "outputId": "f0f9a6af-9d24-46e7-f355-8eff6bb46b40"
      },
      "execution_count": 82,
      "outputs": [
        {
          "output_type": "stream",
          "name": "stdout",
          "text": [
            "Numbers written to 'numbers.txt' successfully.\n"
          ]
        }
      ]
    },
    {
      "cell_type": "code",
      "source": [
        "#ques 18. How would you implement a basic logging setup that logs to a file with rotation after 1MB?\n",
        "\n",
        "import logging\n",
        "from logging.handlers import RotatingFileHandler\n",
        "\n",
        "# Create a logger\n",
        "logger = logging.getLogger(\"MyLogger\")\n",
        "logger.setLevel(logging.DEBUG)  # Log everything (DEBUG and above)\n",
        "\n",
        "# Create a rotating file handler (rotate after 1MB, keep 3 backups)\n",
        "handler = RotatingFileHandler(\n",
        "    \"app.log\",        # Log file name\n",
        "    maxBytes=1_000_000,  # 1MB = 1,000,000 bytes\n",
        "    backupCount=3        # Keep up to 3 backup log files (e.g., app.log.1, app.log.2)\n",
        ")\n",
        "\n",
        "# Create a formatter and set it for the handler\n",
        "formatter = logging.Formatter('%(asctime)s - %(levelname)s - %(message)s')\n",
        "handler.setFormatter(formatter)\n",
        "\n",
        "# Add the handler to the logger\n",
        "logger.addHandler(handler)\n",
        "\n",
        "# Example log messages\n",
        "logger.info(\"Application started.\")\n",
        "logger.debug(\"This is a debug message.\")\n",
        "logger.error(\"This is an error message.\")\n"
      ],
      "metadata": {
        "colab": {
          "base_uri": "https://localhost:8080/"
        },
        "id": "lZDUxBAz19Nw",
        "outputId": "10c25385-d604-4362-e50a-7631a444abb1"
      },
      "execution_count": 83,
      "outputs": [
        {
          "output_type": "stream",
          "name": "stderr",
          "text": [
            "INFO:MyLogger:Application started.\n",
            "DEBUG:MyLogger:This is a debug message.\n",
            "ERROR:MyLogger:This is an error message.\n"
          ]
        }
      ]
    },
    {
      "cell_type": "code",
      "source": [
        "#ques 19. Write a program that handles both IndexError and KeyError using a try-except block.\n",
        "\n",
        "def handle_errors():\n",
        "    my_list = [1, 2, 3]\n",
        "    my_dict = {'name': 'Alice', 'age': 30}\n",
        "\n",
        "    try:\n",
        "        # Try accessing an invalid index\n",
        "        print(\"List item:\", my_list[5])\n",
        "\n",
        "        # Try accessing a non-existent dictionary key\n",
        "        print(\"City:\", my_dict[\"city\"])\n",
        "\n",
        "    except IndexError:\n",
        "        print(\"Error: List index out of range.\")\n",
        "\n",
        "    except KeyError:\n",
        "        print(\"Error: Dictionary key not found.\")\n",
        "\n",
        "# Run the function\n",
        "handle_errors()\n"
      ],
      "metadata": {
        "colab": {
          "base_uri": "https://localhost:8080/"
        },
        "id": "D1dlHSYF19JN",
        "outputId": "283208ef-5afd-4729-b730-0537048ee12a"
      },
      "execution_count": 84,
      "outputs": [
        {
          "output_type": "stream",
          "name": "stdout",
          "text": [
            "Error: List index out of range.\n"
          ]
        }
      ]
    },
    {
      "cell_type": "code",
      "source": [
        "#ques 20. How would you open a file and read its contents using a context manager in Python?\n",
        "\n",
        "# Open and read the contents of a file using a context manager\n",
        "with open(\"example.txt\", \"r\") as file:\n",
        "    content = file.read()\n",
        "    print(content)\n"
      ],
      "metadata": {
        "colab": {
          "base_uri": "https://localhost:8080/"
        },
        "id": "zHj0PHxw19Et",
        "outputId": "e187b885-dcc6-4034-d758-47f18ba3c38c"
      },
      "execution_count": 85,
      "outputs": [
        {
          "output_type": "stream",
          "name": "stdout",
          "text": [
            "Hello, this is a sample text!This text will be added at the end.\n",
            "This text will be added at the end.\n",
            "\n"
          ]
        }
      ]
    },
    {
      "cell_type": "code",
      "source": [
        "#ques 21. Write a Python program that reads a file and prints the number of occurrences of a specific word.\n",
        "\n",
        "def count_word_occurrences(filename, target_word):\n",
        "    try:\n",
        "        with open(filename, \"r\") as file:\n",
        "            content = file.read().lower()  # Convert content to lowercase\n",
        "            words = content.split()\n",
        "            count = words.count(target_word.lower())  # Convert target to lowercase for case-insensitive match\n",
        "            print(f\"The word '{target_word}' appears {count} times in the file.\")\n",
        "    except FileNotFoundError:\n",
        "        print(f\"Error: The file '{filename}' was not found.\")\n",
        "    except Exception as e:\n",
        "        print(f\"An unexpected error occurred: {e}\")\n",
        "\n",
        "# Example usage\n",
        "filename = input(\"Enter the filename: \")\n",
        "word = input(\"Enter the word to count: \")\n",
        "count_word_occurrences(filename, word)\n"
      ],
      "metadata": {
        "colab": {
          "base_uri": "https://localhost:8080/"
        },
        "id": "w-oZWRs619CK",
        "outputId": "8eeef59f-ead1-4a08-f472-0a1df7711883"
      },
      "execution_count": 88,
      "outputs": [
        {
          "output_type": "stream",
          "name": "stdout",
          "text": [
            "Enter the filename: prateek \n",
            "Enter the word to count: 1\n",
            "Error: The file 'prateek ' was not found.\n"
          ]
        }
      ]
    },
    {
      "cell_type": "code",
      "source": [
        "#ques 22.  How can you check if a file is empty before attempting to read its contents?\n",
        "\n",
        "\n",
        "#Method 1: Using os.path.getsize()\n",
        "\n",
        "import os\n",
        "\n",
        "filename = \"example.txt\"\n",
        "\n",
        "if os.path.exists(filename):\n",
        "    if os.path.getsize(filename) == 0:\n",
        "        print(\"The file is empty.\")\n",
        "    else:\n",
        "        with open(filename, \"r\") as file:\n",
        "            content = file.read()\n",
        "            print(\"File content:\\n\", content)\n",
        "else:\n",
        "    print(\"The file does not exist.\")\n",
        "\n",
        "\n",
        "#Method 2: Try to Read and Check Content\n",
        "\n",
        "with open(\"example.txt\", \"r\") as file:\n",
        "    content = file.read()\n",
        "    if not content.strip():\n",
        "        print(\"The file is empty.\")\n",
        "    else:\n",
        "        print(\"File content:\\n\", content)\n",
        "\n",
        "\n",
        "\n",
        "\n",
        "\n"
      ],
      "metadata": {
        "colab": {
          "base_uri": "https://localhost:8080/"
        },
        "id": "T4fLT_kC18_Q",
        "outputId": "4c51d2bf-9f02-4d04-a46a-1093d39f9583"
      },
      "execution_count": 89,
      "outputs": [
        {
          "output_type": "stream",
          "name": "stdout",
          "text": [
            "File content:\n",
            " Hello, this is a sample text!This text will be added at the end.\n",
            "This text will be added at the end.\n",
            "\n",
            "File content:\n",
            " Hello, this is a sample text!This text will be added at the end.\n",
            "This text will be added at the end.\n",
            "\n"
          ]
        }
      ]
    },
    {
      "cell_type": "code",
      "source": [
        "#ques 23.  Write a Python program that writes to a log file when an error occurs during file handling.\n",
        "\n",
        "import logging\n",
        "\n",
        "# Configure logging\n",
        "logging.basicConfig(\n",
        "    filename='file_errors.log',\n",
        "    level=logging.ERROR,\n",
        "    format='%(asctime)s - %(levelname)s - %(message)s'\n",
        ")\n",
        "\n",
        "def read_file(filename):\n",
        "    try:\n",
        "        with open(filename, 'r') as file:\n",
        "            content = file.read()\n",
        "            print(\"File content:\\n\", content)\n",
        "    except FileNotFoundError as e:\n",
        "        print(f\"Error: The file '{filename}' was not found.\")\n",
        "        logging.error(\"FileNotFoundError: %s\", e)\n",
        "    except PermissionError as e:\n",
        "        print(f\"Error: Permission denied to read the file '{filename}'.\")\n",
        "        logging.error(\"PermissionError: %s\", e)\n",
        "    except Exception as e:\n",
        "        print(f\"An unexpected error occurred: {e}\")\n",
        "        logging.exception(\"Unexpected error:\")\n",
        "\n",
        "# Example usage\n",
        "filename = input(\"Enter the filename: \")\n",
        "read_file(filename)\n"
      ],
      "metadata": {
        "colab": {
          "base_uri": "https://localhost:8080/"
        },
        "id": "i7nkbe-U18sv",
        "outputId": "b947571b-a837-46e3-c861-6334103e96fe"
      },
      "execution_count": 90,
      "outputs": [
        {
          "name": "stdout",
          "output_type": "stream",
          "text": [
            "Enter the filename: pwskills\n"
          ]
        },
        {
          "output_type": "stream",
          "name": "stderr",
          "text": [
            "ERROR:root:FileNotFoundError: [Errno 2] No such file or directory: 'pwskills'\n"
          ]
        },
        {
          "output_type": "stream",
          "name": "stdout",
          "text": [
            "Error: The file 'pwskills' was not found.\n"
          ]
        }
      ]
    },
    {
      "cell_type": "code",
      "source": [],
      "metadata": {
        "id": "x45MP9K9UnKQ"
      },
      "execution_count": null,
      "outputs": []
    }
  ]
}